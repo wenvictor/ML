{
 "cells": [
  {
   "cell_type": "markdown",
   "id": "283c281a",
   "metadata": {},
   "source": [
    "# Homework 1 Solution"
   ]
  },
  {
   "cell_type": "code",
   "execution_count": null,
   "id": "c3ac3341",
   "metadata": {},
   "outputs": [],
   "source": [
    "# Import required packages\n",
    "import pandas as pd\n",
    "from sklearn.linear_model import LinearRegression\n",
    "from sklearn.metrics import *"
   ]
  },
  {
   "cell_type": "code",
   "execution_count": null,
   "id": "231e093e",
   "metadata": {},
   "outputs": [],
   "source": [
    "# Read climate_change.csv dataset and print first five rows\n",
    "df = pd.read_csv('climate_change.csv')\n",
    "df.head()"
   ]
  },
  {
   "cell_type": "code",
   "execution_count": null,
   "id": "9948023a",
   "metadata": {},
   "outputs": [],
   "source": [
    "# Split dataframe into training and test sets\n",
    "df_train = df[df['Year'] <= 2002]\n",
    "df_test = df[df['Year'] > 2002]"
   ]
  },
  {
   "cell_type": "markdown",
   "id": "8e5b2ef0",
   "metadata": {},
   "source": [
    "### Part (a)"
   ]
  },
  {
   "cell_type": "code",
   "execution_count": null,
   "id": "940c4423",
   "metadata": {},
   "outputs": [],
   "source": [
    "# Create list of names of features that will be used in the model\n",
    "features = ['MEI',\n",
    " 'CO2',\n",
    " 'CH4',\n",
    " 'N2O',\n",
    " 'CFC-11',\n",
    " 'CFC-12',\n",
    " 'TSI',\n",
    " 'Aerosols']\n",
    "\n",
    "# Extract features and dependent variable from training and test dataframes\n",
    "X_train = df_train[features]\n",
    "y_train = df_train['Temp']\n",
    "X_test = df_test[features]\n",
    "y_test = df_test['Temp']\n",
    "\n",
    "# Create a blank linear regression model and train it using the training data\n",
    "LR_a = LinearRegression()\n",
    "LR_a.fit(X_train,y_train)\n",
    "\n",
    "# Print in-sample and out-of-sample metrics\n",
    "print(r2_score(y_train,LR_a.predict(X_train)))\n",
    "print(r2_score(y_test,LR_a.predict(X_test)))\n",
    "print(mean_squared_error(y_train,LR_a.predict(X_train)))\n",
    "print(mean_squared_error(y_test,LR_a.predict(X_test)))\n",
    "print(mean_absolute_error(y_train,LR_a.predict(X_train)))\n",
    "print(mean_absolute_error(y_test,LR_a.predict(X_test)))"
   ]
  },
  {
   "cell_type": "markdown",
   "id": "b57e70f9",
   "metadata": {},
   "source": [
    "### Part (b)"
   ]
  },
  {
   "cell_type": "code",
   "execution_count": null,
   "id": "51f0ba1c",
   "metadata": {},
   "outputs": [],
   "source": [
    "# Create list of names of features that will be used in the model\n",
    "features = ['MEI',\n",
    " 'N2O',\n",
    " 'TSI',\n",
    " 'Aerosols']\n",
    "\n",
    "# Extract features and dependent variable from training and test dataframes\n",
    "X_train = df_train[features]\n",
    "y_train = df_train['Temp']\n",
    "X_test = df_test[features]\n",
    "y_test = df_test['Temp']\n",
    "\n",
    "# Create a blank linear regression model and train it using the training data\n",
    "LR_b = LinearRegression()\n",
    "LR_b.fit(X_train,y_train)\n",
    "\n",
    "# Print in-sample and out-of-sample metrics\n",
    "print(r2_score(y_train,LR_b.predict(X_train)))\n",
    "print(r2_score(y_test,LR_b.predict(X_test)))\n",
    "print(mean_squared_error(y_train,LR_b.predict(X_train)))\n",
    "print(mean_squared_error(y_test,LR_b.predict(X_test)))\n",
    "print(mean_absolute_error(y_train,LR_b.predict(X_train)))\n",
    "print(mean_absolute_error(y_test,LR_b.predict(X_test)))"
   ]
  },
  {
   "cell_type": "markdown",
   "id": "0aeb799e",
   "metadata": {},
   "source": [
    "### Part (d)"
   ]
  },
  {
   "cell_type": "code",
   "execution_count": null,
   "id": "d3dcc98b",
   "metadata": {},
   "outputs": [],
   "source": [
    "# Check coefficient for N2O in both models\n",
    "print(LR_a.coef_[3])\n",
    "print(LR_b.coef_[1])"
   ]
  },
  {
   "cell_type": "code",
   "execution_count": null,
   "id": "89339df2",
   "metadata": {},
   "outputs": [],
   "source": []
  }
 ],
 "metadata": {
  "kernelspec": {
   "display_name": "Python 3",
   "language": "python",
   "name": "python3"
  },
  "language_info": {
   "codemirror_mode": {
    "name": "ipython",
    "version": 3
   },
   "file_extension": ".py",
   "mimetype": "text/x-python",
   "name": "python",
   "nbconvert_exporter": "python",
   "pygments_lexer": "ipython3",
   "version": "3.8.8"
  }
 },
 "nbformat": 4,
 "nbformat_minor": 5
}
