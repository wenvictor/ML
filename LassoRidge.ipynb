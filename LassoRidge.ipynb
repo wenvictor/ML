{
 "cells": [
  {
   "cell_type": "code",
   "execution_count": null,
   "id": "7d22fd03",
   "metadata": {},
   "outputs": [],
   "source": [
    "import pandas as pd\n",
    "from sklearn.linear_model import LinearRegression, RidgeCV, LassoCV\n",
    "from sklearn.metrics import r2_score\n",
    "from sklearn.model_selection import train_test_split\n",
    "from sklearn.feature_selection import SequentialFeatureSelector \n",
    "import matplotlib.pyplot as plt\n",
    "import numpy as np"
   ]
  },
  {
   "cell_type": "code",
   "execution_count": null,
   "id": "345f38f3",
   "metadata": {},
   "outputs": [],
   "source": [
    "df = pd.read_csv('framingham.csv')\n",
    "df.head()"
   ]
  },
  {
   "cell_type": "code",
   "execution_count": null,
   "id": "35333b7a",
   "metadata": {},
   "outputs": [],
   "source": [
    "plt.scatter(df['CareerHmRuns'],df['Salary'])"
   ]
  },
  {
   "cell_type": "code",
   "execution_count": null,
   "id": "5468e62a",
   "metadata": {},
   "outputs": [],
   "source": [
    "# Apply one-hot encoding to categorical variables\n",
    "df = pd.get_dummies(df, columns=['League','Division','NewLeague'],drop_first=True)\n",
    "df.head()"
   ]
  },
  {
   "cell_type": "code",
   "execution_count": null,
   "id": "8613dc37",
   "metadata": {},
   "outputs": [],
   "source": [
    "# 70/30 split into train and test sets\n",
    "features = [\n",
    " 'AtBats',\n",
    " 'Hits',\n",
    " 'HmRuns',\n",
    " 'Runs',\n",
    " 'RBIs',\n",
    " 'Walks',\n",
    " 'Years',\n",
    " 'CareerAtBats',\n",
    " 'CareerHits',\n",
    " 'CareerHmRuns',\n",
    " 'CareerRuns',\n",
    " 'CareerRBIs',\n",
    " 'CareerWalks',\n",
    " 'PutOuts',\n",
    " 'Assists',\n",
    " 'Errors',\n",
    " 'League_N',\n",
    " 'Division_E',\n",
    " 'Division_W',\n",
    " 'NewLeague_N']\n",
    "X = df[features]\n",
    "y = df['Salary']\n",
    "\n",
    "X_train, X_test, y_train, y_test = train_test_split(X,y,test_size=.3,random_state=21)"
   ]
  },
  {
   "cell_type": "code",
   "execution_count": null,
   "id": "c83d7147",
   "metadata": {},
   "outputs": [],
   "source": [
    "# Ordinary Linear Regression\n",
    "reg = LinearRegression()\n",
    "reg.fit(X_train,y_train)\n",
    "print(r2_score(y_train,reg.predict(X_train)))\n",
    "print(r2_score(y_test,reg.predict(X_test)))\n",
    "print(reg.coef_[9])\n",
    "print(reg.coef_[18]-reg.coef_[17])\n",
    "print(-reg.coef_[18])\n",
    "print(reg.coef_[17])"
   ]
  },
  {
   "cell_type": "code",
   "execution_count": null,
   "id": "3e0860ba",
   "metadata": {},
   "outputs": [],
   "source": [
    "# Ridge\n",
    "alphas = np.exp(np.arange(-3,3,.1))\n",
    "reg = RidgeCV(alphas=alphas,cv=10,normalize=True)\n",
    "reg.fit(X_train,y_train)\n",
    "print(r2_score(y_train,reg.predict(X_train)))\n",
    "print(r2_score(y_test,reg.predict(X_test)))\n",
    "print(reg.alpha_)\n",
    "print(reg.coef_[9])"
   ]
  },
  {
   "cell_type": "code",
   "execution_count": null,
   "id": "dcfb9190",
   "metadata": {},
   "outputs": [],
   "source": [
    "# Lasso\n",
    "alphas = np.exp(np.arange(-3,3,.1))\n",
    "reg = LassoCV(alphas=alphas,cv=10,normalize=True,max_iter=10000)\n",
    "reg.fit(X_train,y_train)\n",
    "print(r2_score(y_train,reg.predict(X_train)))\n",
    "print(r2_score(y_test,reg.predict(X_test)))\n",
    "print(reg.alpha_)\n",
    "print(reg.coef_)"
   ]
  },
  {
   "cell_type": "code",
   "execution_count": null,
   "id": "a4cf1055",
   "metadata": {},
   "outputs": [],
   "source": [
    "# Forward Selection\n",
    "reg = LinearRegression()\n",
    "sfs = SequentialFeatureSelector(reg, n_features_to_select=15, direction='backward')\n",
    "sfs.fit(X_train,y_train)\n",
    "sfs.support_"
   ]
  },
  {
   "cell_type": "code",
   "execution_count": null,
   "id": "a27535fc",
   "metadata": {},
   "outputs": [],
   "source": [
    "# Fitting ordinary linear regression on the selected features\n",
    "reg = LinearRegression()\n",
    "reg.fit(sfs.transform(X_train),y_train)\n",
    "print(r2_score(y_train,reg.predict(sfs.transform(X_train))))\n",
    "print(r2_score(y_test,reg.predict(sfs.transform(X_test))))"
   ]
  },
  {
   "cell_type": "code",
   "execution_count": null,
   "id": "4dd366fe",
   "metadata": {},
   "outputs": [],
   "source": []
  }
 ],
 "metadata": {
  "kernelspec": {
   "display_name": "Python 3",
   "language": "python",
   "name": "python3"
  },
  "language_info": {
   "codemirror_mode": {
    "name": "ipython",
    "version": 3
   },
   "file_extension": ".py",
   "mimetype": "text/x-python",
   "name": "python",
   "nbconvert_exporter": "python",
   "pygments_lexer": "ipython3",
   "version": "3.8.8"
  }
 },
 "nbformat": 4,
 "nbformat_minor": 5
}
